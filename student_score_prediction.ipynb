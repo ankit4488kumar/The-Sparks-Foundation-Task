{
  "nbformat": 4,
  "nbformat_minor": 0,
  "metadata": {
    "colab": {
      "name": "student_score_prediction.ipynb",
      "provenance": [],
      "private_outputs": true
    },
    "kernelspec": {
      "name": "python3",
      "display_name": "Python 3"
    }
  },
  "cells": [
    {
      "cell_type": "markdown",
      "metadata": {
        "id": "m5ZPhU_QPcyL"
      },
      "source": [
        "# Import the library"
      ]
    },
    {
      "cell_type": "code",
      "metadata": {
        "id": "u5fnjs053qzH"
      },
      "source": [
        "import numpy as np\n",
        "import pandas as pd\n",
        "import matplotlib.pyplot as plt \n",
        "import seaborn as sns \n",
        "%matplotlib inline"
      ],
      "execution_count": null,
      "outputs": []
    },
    {
      "cell_type": "code",
      "metadata": {
        "id": "SC_5eiauIskJ"
      },
      "source": [
        "from google.colab import drive\n",
        "drive.mount('/content/drive')"
      ],
      "execution_count": null,
      "outputs": []
    },
    {
      "cell_type": "markdown",
      "metadata": {
        "id": "UofGnzl6Qvn5"
      },
      "source": [
        "# Import the Datasets"
      ]
    },
    {
      "cell_type": "code",
      "metadata": {
        "id": "riznkeIEK1Z2"
      },
      "source": [
        "data = pd.read_csv('/content/drive/My Drive/Datasets/TSF_task/student_score_prediction/student_scores - student_scores.csv')"
      ],
      "execution_count": null,
      "outputs": []
    },
    {
      "cell_type": "code",
      "metadata": {
        "id": "7S5SyfHiN6G0"
      },
      "source": [
        "data"
      ],
      "execution_count": null,
      "outputs": []
    },
    {
      "cell_type": "code",
      "metadata": {
        "id": "bnClRPnKnpDP"
      },
      "source": [
        "data_original = data.copy()"
      ],
      "execution_count": null,
      "outputs": []
    },
    {
      "cell_type": "code",
      "metadata": {
        "id": "LSNjyGUzOS5j"
      },
      "source": [
        "data.shape"
      ],
      "execution_count": null,
      "outputs": []
    },
    {
      "cell_type": "code",
      "metadata": {
        "id": "bw2oyqgGSsPU"
      },
      "source": [
        "data.info()"
      ],
      "execution_count": null,
      "outputs": []
    },
    {
      "cell_type": "code",
      "metadata": {
        "id": "UW6LeqTLxZP-"
      },
      "source": [
        "# Plotting the distribution of scores\n",
        "X = data['Hours'].values\n",
        "y = data['Scores'].values\n",
        "plt.scatter(X,y,label='scores',color='red',s=50)\n",
        "plt.xlabel('Hours')\n",
        "plt.ylabel('Score')\n",
        "plt.title('Height vs Weight')\n",
        "plt.legend(loc=\"lower right\")\n",
        "plt.show()"
      ],
      "execution_count": null,
      "outputs": []
    },
    {
      "cell_type": "code",
      "metadata": {
        "id": "mDDSzR1ajoXm"
      },
      "source": [
        "X = data.drop('Scores',axis = 1)\n",
        "X.head()"
      ],
      "execution_count": null,
      "outputs": []
    },
    {
      "cell_type": "code",
      "metadata": {
        "id": "2LJwYfl-n4Dg"
      },
      "source": [
        "y = data_original['Scores']"
      ],
      "execution_count": null,
      "outputs": []
    },
    {
      "cell_type": "code",
      "metadata": {
        "id": "EeptBKR0oLt6"
      },
      "source": [
        "y.head()"
      ],
      "execution_count": null,
      "outputs": []
    },
    {
      "cell_type": "code",
      "metadata": {
        "id": "gXVe6JlrqfHW"
      },
      "source": [
        "from sklearn.model_selection import train_test_split"
      ],
      "execution_count": null,
      "outputs": []
    },
    {
      "cell_type": "code",
      "metadata": {
        "id": "EX6iyj27rzTV"
      },
      "source": [
        "X_train, X_validation, y_train, y_validation = train_test_split(X, y,test_size= 0.2)"
      ],
      "execution_count": null,
      "outputs": []
    },
    {
      "cell_type": "code",
      "metadata": {
        "id": "Ii2mvXU0syWj"
      },
      "source": [
        "from sklearn.linear_model import LinearRegression\n",
        "lr_model = LinearRegression()\n",
        "lr_model.fit(X_train, y_train)\n",
        "lr_pred = lr_model.predict(X_validation)"
      ],
      "execution_count": null,
      "outputs": []
    },
    {
      "cell_type": "code",
      "metadata": {
        "id": "jbtFEGLGAw6J"
      },
      "source": [
        "print(\"The intercepting point of given model :\",lr_model.intercept_)\n",
        "print(\"The coeficient of the given moel :\",lr_model.coef_)\n",
        "print(\"Prediction the score from the testing datasets :\", lr_pred)"
      ],
      "execution_count": null,
      "outputs": []
    },
    {
      "cell_type": "code",
      "metadata": {
        "id": "75iDvPxfBIdh"
      },
      "source": [
        "# Plotting the regression line\n",
        "reg_line = lr_model.coef_*X+lr_model.intercept_\n",
        "\n",
        "# Plotting for the test data\n",
        "plt.scatter(X, y)\n",
        "plt.plot(X, reg_line)\n",
        "plt.show()"
      ],
      "execution_count": null,
      "outputs": []
    },
    {
      "cell_type": "code",
      "metadata": {
        "id": "_nPEX5QCLNmF"
      },
      "source": [
        "# Comparing Actual Scores vs Predicted Scores\n",
        "actual_scores = y_validation.values\n",
        "predicted_score = lr_pred\n",
        "list_of_tuples = list(zip(actual_scores, predicted_score)) \n",
        "comp_df = pd.DataFrame(list_of_tuples, columns = ['Actual_Scores', 'Predicted_Scores'])  "
      ],
      "execution_count": null,
      "outputs": []
    },
    {
      "cell_type": "code",
      "metadata": {
        "id": "LapfT_f3LqnH"
      },
      "source": [
        "comp_df.head()"
      ],
      "execution_count": null,
      "outputs": []
    },
    {
      "cell_type": "code",
      "metadata": {
        "id": "LMmr2rDzcIP6"
      },
      "source": [
        "axes = comp_df.plot.line(subplots=True)"
      ],
      "execution_count": null,
      "outputs": []
    },
    {
      "cell_type": "code",
      "metadata": {
        "id": "ZgeTP27SThd4"
      },
      "source": [
        "comp_lines = comp_df.plot.line()"
      ],
      "execution_count": null,
      "outputs": []
    },
    {
      "cell_type": "code",
      "metadata": {
        "id": "tK4x8eyTTJ8O"
      },
      "source": [
        "from sklearn import metrics  \n",
        "print('Mean Absolute Error for the given datasets:', \n",
        "      metrics.mean_absolute_error(y_validation, lr_pred)) "
      ],
      "execution_count": null,
      "outputs": []
    },
    {
      "cell_type": "markdown",
      "metadata": {
        "id": "2J4GSbvZctG1"
      },
      "source": [
        "# Evaluation the model"
      ]
    },
    {
      "cell_type": "code",
      "metadata": {
        "id": "OiWC9myVTU0z"
      },
      "source": [
        "#Now predict the score when study hours is 9.25 per day\n",
        "study_hour = 9.25\n",
        "pred_score = lr_model.coef_*(study_hour)+lr_model.intercept_\n",
        "print(\"No of Study hours \", study_hour)\n",
        "print(\"Predicted Score for the given study hour :\", pred_score)"
      ],
      "execution_count": null,
      "outputs": []
    },
    {
      "cell_type": "code",
      "metadata": {
        "id": "-ZUGyptUXPRu"
      },
      "source": [
        ""
      ],
      "execution_count": null,
      "outputs": []
    }
  ]
}